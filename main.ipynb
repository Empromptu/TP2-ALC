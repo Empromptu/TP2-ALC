{
 "cells": [
  {
   "cell_type": "markdown",
   "metadata": {
    "id": "-In5JqxMCbcU"
   },
   "source": [
    "### Consigna 2"
   ]
  },
  {
   "cell_type": "code",
   "execution_count": null,
   "metadata": {
    "id": "t1zvz3FUB0lD"
   },
   "outputs": [],
   "source": [
    "import numpy as np\n",
    "import matplotlib.pyplot as plt\n",
    "from scipy.linalg import norm"
   ]
  },
  {
   "cell_type": "code",
   "execution_count": null,
   "metadata": {
    "id": "5Qih9NSJCfuL"
   },
   "outputs": [],
   "source": [
    "A1 = np.array([\n",
    "    [0.186, 0.521, 0.014, 0.32, 0.134],\n",
    "    [0.24, 0.073, 0.219, 0.013, 0.327],\n",
    "    [0.098, 0.12, 0.311, 0.302, 0.208],\n",
    "    [0.173, 0.03, 0.133, 0.14, 0.074],\n",
    "    [0.303, 0.256, 0.323, 0.225, 0.257]\n",
    "])\n",
    "\n",
    "A2 = np.array([\n",
    "    [0.186, 0.521, 0.014, 0.32, 0.134],\n",
    "    [0.24, 0.073, 0.219, 0.013, 0.327],\n",
    "    [0.098, 0.12, 0.311, 0.302, 0.208],\n",
    "    [0.173, 0.03, 0.133, 0.14, 0.074],\n",
    "    [0.003, 0.256, 0.323, 0.225, 0.257]\n",
    "])"
   ]
  },
  {
   "cell_type": "code",
   "execution_count": null,
   "metadata": {
    "colab": {
     "base_uri": "https://localhost:8080/",
     "height": 564
    },
    "id": "cKvA9zi4CgCq",
    "outputId": "2e9d2663-f4fd-4aa2-8296-191513083f24"
   },
   "outputs": [],
   "source": [
    "N = 250\n",
    "\n",
    "a1 = np.zeros(N)\n",
    "a2 = np.zeros(N)\n",
    "\n",
    "for i in range(0,N-1):\n",
    "  a1[i] = norm(np.linalg.matrix_power(A1, i + 1), ord=2)\n",
    "  a2[i] = norm(np.linalg.matrix_power(A2, i + 1), ord=2)\n",
    "\n",
    "plt.figure(figsize=(12, 6))\n",
    "plt.plot(range(1, N + 1), a1, label='Norma 2 de A1^n', color='blue')\n",
    "plt.plot(range(1, N + 1), a2, label='Norma 2 de A2^n', color='orange')\n",
    "plt.title('Norma 2 de las Potencias de las Matrices A1 y A2')\n",
    "plt.xlabel('n (Potencia)')\n",
    "plt.ylabel('Norma 2')\n",
    "plt.legend()\n",
    "plt.grid()\n",
    "plt.show()"
   ]
  },
  {
   "cell_type": "markdown",
   "metadata": {
    "id": "i1KB60LCMM8c"
   },
   "source": [
    "### Consigna 3 "
   ]
  },
  {
   "cell_type": "code",
   "execution_count": null,
   "metadata": {
    "id": "MROwgBkrCf8q"
   },
   "outputs": [],
   "source": [
    "def metodoPotencia(A,num_iteraciones):\n",
    "  tolerancia = 1e-6\n",
    "  autovalores = []\n",
    "  n = A.shape[0]\n",
    "\n",
    "  for _ in range(num_iteraciones):\n",
    "    x0 = np.random.rand(n)\n",
    "    x0 = x0 / np.linalg.norm(x0)\n",
    "\n",
    "    while True:\n",
    "      x1 = A@x0\n",
    "      x1 = x1/np.linalg.norm(x1)\n",
    "      if (np.linalg.norm(x1 - x0)) < tolerancia :\n",
    "        break\n",
    "      x0 = x1\n",
    "\n",
    "    autovalor = (x0.T @ A @ x0) \n",
    "    autovalores.append(autovalor)\n",
    "\n",
    "  promedio = np.mean(autovalores)\n",
    "  desviacion_estandar = np.std(autovalores)\n",
    "  maxaval = max(autovalores)\n",
    "\n",
    "  return promedio, desviacion_estandar , maxaval, autovalores\n",
    "\n",
    "# que onda la toleracia de convergencia entre vectores ? puedo asumir que siempre existe convergencia ?"
   ]
  },
  {
   "cell_type": "code",
   "execution_count": null,
   "metadata": {
    "colab": {
     "base_uri": "https://localhost:8080/"
    },
    "id": "ODmJVwqDT05k",
    "outputId": "4adbf01b-51b0-4fef-d522-59cdcdfc6c12"
   },
   "outputs": [],
   "source": [
    "p1,d1,a1 = metodoPotencia(A1,250)\n",
    "print (\"El autovalor mas grande de A1 es: \" + str(a1))\n",
    "\n",
    "p2,d2,a2 = metodoPotencia(A2,250)\n",
    "print (\"El autovalor mas grande de A2 es: \" + str(a2))"
   ]
  },
  {
   "cell_type": "code",
   "execution_count": null,
   "metadata": {
    "colab": {
     "base_uri": "https://localhost:8080/"
    },
    "id": "w6EtmSUbUuHc",
    "outputId": "0999862f-9e54-479d-f746-4c190060f165"
   },
   "outputs": [],
   "source": [
    "import pandas as pd\n",
    "\n",
    "data = {\n",
    "    'Matriz': ['A1', 'A2'],\n",
    "    'Promedio Autovalores': [p1, p2],\n",
    "    'Desviación Estándar': [d1, d2]\n",
    "}\n",
    "\n",
    "tabla = pd.DataFrame(data)\n",
    "\n",
    "# Mostrar la tabla\n",
    "print(tabla)"
   ]
  },
  {
   "cell_type": "code",
   "execution_count": null,
   "metadata": {},
   "outputs": [],
   "source": [
    "a = np.array([1,1,1])\n",
    "ab = np.array([1,10,71])\n",
    "print(a*ab)"
   ]
  },
  {
   "cell_type": "markdown",
   "metadata": {
    "id": "894cXvrYXFy0"
   },
   "source": [
    "### Consigna 4 "
   ]
  },
  {
   "cell_type": "code",
   "execution_count": null,
   "metadata": {
    "colab": {
     "base_uri": "https://localhost:8080/",
     "height": 1000
    },
    "id": "C-nsCuuXXIpe",
    "outputId": "e11330a0-2df4-419c-af43-7d9138626f25"
   },
   "outputs": [],
   "source": [
    "\n",
    "def sucesion_de_potencias(A,k):\n",
    "  normas = []\n",
    "  A_potencia = np.eye(A.shape[0])\n",
    "\n",
    "  for i in range(1,k + 1 ):\n",
    "    A_potencia = A_potencia@A\n",
    "    norma = norm(A_potencia, 2)\n",
    "    normas.append(norma)\n",
    "\n",
    "  return normas\n",
    "\n",
    "normasA1_10 = sucesion_de_potencias(A1,10)\n",
    "normasA2_10 = sucesion_de_potencias(A2,10)\n",
    "\n",
    "normasA1_100 = sucesion_de_potencias(A1,100)\n",
    "normasA2_100 = sucesion_de_potencias(A2,100)\n",
    "\n",
    "\n",
    "normasA1_40 = sucesion_de_potencias(A1,40)\n",
    "\n",
    "# GRAFICOS\n",
    "\n",
    "fig, (ax1, ax2, ax3) = plt.subplots(3, 1, figsize=(10, 15))\n",
    "\n",
    "# Gráfico de la serie de normas para 10 iteraciones\n",
    "ax1.plot(range(1, len(normasA1_10) + 1), normasA1_10, marker='o', color='b', label=r'$\\|A1^n\\|_2$')\n",
    "ax1.plot(range(1, len(normasA2_10) + 1), normasA2_10, marker='x', color='r', label=r'$\\|A2^n\\|_2$')\n",
    "ax1.set_xlabel('Iteración (n)')\n",
    "ax1.set_ylabel(r'$\\|A^n\\|_2$')\n",
    "ax1.set_title('Evolución de la Norma para 10 Iteraciones')\n",
    "ax1.legend()\n",
    "ax1.grid(True)\n",
    "\n",
    "# Gráfico de la serie de normas para 100 iteraciones\n",
    "ax2.plot(range(1, len(normasA1_100) + 1), normasA1_100, marker='o', color='b', label=r'$\\|A1^n\\|_2$')\n",
    "ax2.plot(range(1, len(normasA2_100) + 1), normasA2_100, marker='x', color='r', label=r'$\\|A2^n\\|_2$')\n",
    "ax2.set_xlabel('Iteración (n)')\n",
    "ax2.set_ylabel(r'$\\|A^n\\|_2$')\n",
    "ax2.set_title('Evolución de la Norma para 100 Iteraciones')\n",
    "ax2.legend()\n",
    "ax2.grid(True)\n",
    "\n",
    "# Gráfico de la serie de normas de A1 para 40 iteraciones\n",
    "ax3.plot(range(1, len(normasA1_40) + 1), normasA1_40, marker='o', color='b')\n",
    "ax3.set_xlabel('Iteración (n)')\n",
    "ax3.set_ylabel(r'$\\|A^n\\|_2$')\n",
    "ax3.set_title('Evolución de la Norma para 40 Iteraciones (Matriz A1)')\n",
    "ax3.grid(True)\n",
    "\n",
    "# Ajuste de la distribución de subgráficos\n",
    "plt.tight_layout()\n",
    "plt.show()\n",
    "\n",
    "\n"
   ]
  },
  {
   "cell_type": "markdown",
   "metadata": {
    "id": "yYb6LcVOdJlJ"
   },
   "source": [
    "Notemos que hay convergencia solo para la matriz A2, esto pues la serie de potencias de su norma converge. Su convergencia es hacia 0, y A1 no converge, sino que comienza a oscilar de forma constante al rededor del valor 1.0374.\n",
    "Una regla general para que la serie infinita de normas de las potencias de una matriz converga es que el mayor autovalor en valor absoluto de la matriz sea menor que 1 , es decir que su radio espectral lo sea.\n",
    "para nuestro ejemplo, recordemos que el autovalor de A1 era igual a 1.0000000895350079 y el de A2 era menor, exactamente 0.9276516098096924."
   ]
  },
  {
   "cell_type": "code",
   "execution_count": null,
   "metadata": {
    "id": "tXKz3RD_gk0o"
   },
   "outputs": [],
   "source": [
    "#falta inciso (d)"
   ]
  },
  {
   "cell_type": "markdown",
   "metadata": {},
   "source": [
    "### Consigna 5 "
   ]
  },
  {
   "cell_type": "code",
   "execution_count": null,
   "metadata": {},
   "outputs": [],
   "source": [
    "Appdata = pd.read_csv(\"Appdata.csv\")\n",
    "Anndata = pd.read_csv(\"Anndata.csv\")\n",
    "App = Appdata.values\n",
    "Ann = Anndata.values"
   ]
  },
  {
   "cell_type": "code",
   "execution_count": null,
   "metadata": {},
   "outputs": [],
   "source": [
    "import numpy as np\n",
    "\n",
    "def metodoPotencia(A, num_iteraciones):\n",
    "    tolerancia = 1e-6\n",
    "    autovalores = []\n",
    "    n = A.shape[0]\n",
    "    x0 = np.random.rand(n)  # Vector inicial\n",
    "    x0 = x0 / np.linalg.norm(x0)\n",
    "    \n",
    "    for _ in range(num_iteraciones):\n",
    "        x1 = A @ x0\n",
    "        x1 = x1 / np.linalg.norm(x1)\n",
    "        \n",
    "        autovalor = (x0.T @ A @ x0) / (x0.T @ x0) #### por que no dividis por el prod interno?\n",
    "        autovalores.append(autovalor)\n",
    "        if np.linalg.norm(x1 - x0) < tolerancia:\n",
    "            break\n",
    "        x0 = x1\n",
    "    \n",
    "    promedio = np.mean(autovalores)\n",
    "    desviacion_estandar = np.std(autovalores)\n",
    "    maxaval = max(autovalores)\n",
    "    \n",
    "    return promedio, desviacion_estandar, maxaval, autovalores\n",
    "pAnn,dAnn,avalmaxAnn, avalsAnn = metodoPotencia(Ann,50)\n",
    "pApp,dApp,avalmaxApp, avalsApp = metodoPotencia(App,50)\n",
    "\n",
    "print (\"El autovalor mas grande de Ann es: \" + str(avalmaxAnn))\n",
    "print(avalsAnn)\n",
    "print (\"El autovalor mas grande de App es: \" + str(avalmaxApp))\n",
    "print(avalsApp)"
   ]
  },
  {
   "cell_type": "code",
   "execution_count": null,
   "metadata": {},
   "outputs": [],
   "source": [
    "plt.plot(avalsAnn, label='Autovalores de App')\n",
    "plt.plot(avalsApp, label='Autovalores Ann')\n",
    "plt.xlabel('Iteraciones')\n",
    "plt.ylabel('Autovalor dominante aproximado')\n",
    "plt.title('Convergencia del método de la potencia')\n",
    "plt.legend()\n",
    "plt.grid(True)\n",
    "plt.show()"
   ]
  },
  {
   "cell_type": "markdown",
   "metadata": {},
   "source": []
  },
  {
   "cell_type": "markdown",
   "metadata": {},
   "source": [
    "### Consigna 6"
   ]
  },
  {
   "cell_type": "markdown",
   "metadata": {},
   "source": [
    "a) Vamos a probar que para cualquier vector $z \\in \\mathbb{R}^n$ sucede que el promedio de las componentes es 0.  (REVISAR ESTO)\n",
    "\n",
    "Sabiendo que $E_n \\in \\mathbb{R}^{n \\times n}$ se escribe como $ E_n = I_n - \\frac{1}{n}ee^t $  podemos decir que:\n",
    "$$ E_nz = I_n - \\frac{1}{n}ee^tz = z - \\frac{1}{n}ee^tz \\quad ,luego\\,\\, usando\\, \\, e = \\begin{pmatrix} 1 \\\\\\vdots \\\\ 1 \\end{pmatrix}  \\,\\, puedo \\,\\,escribir\\,\\, que\\,\\, e^tz= \\sum_{i=1}^{n} z_i$$ \n",
    "$$ reemplazando\\,\\, obtenemos\\,\\, E_n = z -\\frac{1}{n}\\left( \\sum_{i=1}^{n} z_i \\right) e$$ \n",
    "$$ Sabiendo \\,\\,que \\,\\,el\\,\\, promedio\\,\\, de\\,\\, las\\,\\, componentes\\,\\, se \\,\\,escribe\\,\\, como\\,\\, \\frac{1}{n} \\sum_{i=1 }^{n}z_i \\,\\, luego: $$\n",
    "\n",
    "$$ \\frac{1}{n} \\sum_{i=1}^{n} z_i = \\frac{1}{n} \\sum_{i=1}^{n} \\left( z_i - \\frac{1}{n} \\sum_{j=1}^{n} z_j \\right) = \\frac{1}{n} \\sum_{i=1}^{n} z_i - \\frac{1}{n} \\sum_{j=1}^{n} z_j = 0$$\n",
    "b) Para este ejercicio primero buscamos expresar la matriz de la transformacion lineal $E_n$ en la base $ \\{e,d_2,..., d_n\\}$ luego podremos calcular los autovalores, autovectores y determinar la imagen y nucleo de dicha matriz.\n",
    "$$ \\bullet caso \\,\\, E_ne $$\n",
    "$$\\quad E_ne =\\left(I_n - \\frac{1}{n}ee^t \\right)e = e - \\frac{1}{n}e\\left(e^te\\right) = e - \\frac{1}{n}en = 0$$\n",
    "$$E_n = 0 \\,\\,podemos \\,\\,interpretarlo\\,\\, como \\,\\, 'Av = \\lambda ' \\,\\, con \\,\\,v = e\\,\\, y \\,\\, \\lambda = 0 $$\n",
    "$$\\bullet caso \\,\\, E_nd $$\n",
    "$$ Sabemos\\,\\, que\\,\\, d \\in \\{d_2,...,d_n \\}\\,\\, y \\,\\,como\\,\\, estos\\,\\, vectores\\,\\, son\\,\\, ortogonales \\,\\,a\\,\\, e\\,\\, luego\\,\\, e^td_i =0$$\n",
    "$$ E_nd= \\left(I_n - \\frac{1}{n}ee^t \\right)d = d - \\frac{1}{n}e\\left(e^td\\right)= d$$\n",
    "$$ Entonces \\,\\,E_nd = 1d \\quad \\Rightarrow \\quad d \\,\\,es \\,\\,autovector\\,\\, de\\,\\, \\lambda = 1$$\n",
    "Ahora para encontrar el nucleo y la imagen de esta matriz es cuestion de poner los transformados de los elementos de la base $b=\\{ d_2,...d_n\\}$ como columnas\n",
    "\n",
    "$$ E_n = Abb = \n",
    "\\begin{bmatrix}\n",
    "0 & 0 & 0 & \\cdots & 0 \\\\\n",
    "0 & 1 & 0 & \\cdots & 0 \\\\\n",
    "0 & 0 & 1 & \\cdots & 0 \\\\\n",
    "\\vdots & \\vdots & \\vdots & \\ddots & \\vdots \\\\\n",
    "0 & 0 & 0 & \\cdots & 1\n",
    "\\end{bmatrix} $$\n",
    "Con esta matriz obtenemos los subespacios buscados:\n",
    "$$ \\bullet  Nucleo: el \\,\\,unico \\,\\,vector\\,\\, que\\,\\, 'manda' \\,\\,otros\\,\\, al \\,\\, 0 \\,\\, es \\,\\,e\\,\\,$$\n",
    "$$ Vemos \\,\\ que \\,\\ Nu\\left( E_n \\right) = \\langle e \\rangle \\,\\ luego \\,\\ dim \\left( Nu\\left(E_n\\right) \\right) = 1$$ \n",
    "$$ \\bullet Im \\left( E_n\\right) = \\langle d_2, ... ,d_n \\rangle \\,\\, entonces\\,\\,  dim \\left( Im\\left(E_n\\right) \\right) = n - 1  $$\n",
    "\n",
    "c) Sabemos que un proyector se dice ortogonal si y solo si $Nu\\left(A \\right) \\bot Im\\left( A \\right)  \\\\ $\n",
    "\n",
    "Anteriormente  pudimos observar que es cierto que $ \\langle d_2, ... , d_n\\rangle $ es ortogonal a  $\\langle e\\rangle$, sabemos que $Im\\left( A \\right) = \\langle d_2, ... , d_n\\rangle$ y $Nu\\left(A \\right) = \\langle e \\rangle   $ luego $Nu\\left(A \\right) \\bot Im\\left( A \\right)  \\\\ $\n",
    "\n",
    "Dicho proyector proyecta sobre el subespacio generado por $ \\langle d_2, ... , d_n\\rangle $\n",
    "\n",
    "d) \n",
    "\n",
    "$ \\bullet $ (REVISAR) Es FALSO que  E_n es una matriz  ortogonal: quiero   ver  que  $E_n^tE_n = I \\,\\,luego $\n",
    "$$ \\left( I_n - \\frac{1}{n}ee^t \\right)^t \\left( I_n -\\frac{1}{n}ee^t \\right) = \\left( I_n- \\frac{1}{n}e^te \\right) \\left( I_n- \\frac{1}{n}ee^t\\right) = I_n -\\frac{2}{n}e^te + \\frac{1}{n^2}nee^t = I_n - \\frac{1}{n}ee^t \\neq I$$\n",
    "\n",
    "$ \\bullet $  Es VERDADERO que $E_n$ es una matriz singular pues tiene columnas de ceros y tambien sabemos que $det\\left( E_n\\right) = det \\left( 0d_2...d_n \\right) = 0 $\n",
    "\n",
    "$ \\bullet $ Es FALSO que $E_n$ es definida positiva pues vimos que dicha matriz NO es inversible. (REVISAR)\n",
    "\n",
    "$ \\bullet $ Es VERDADERO que $tr\\left(E_n\\right) = n - 1:$\n",
    "\n",
    "$$sabemos\\,\\,  que \\,\\,  E_n =  \n",
    "\\begin{bmatrix}\n",
    "0 & 0 & 0 & \\cdots & 0 \\\\\n",
    "0 & 1 & 0 & \\cdots & 0 \\\\\n",
    "0 & 0 & 1 & \\cdots & 0 \\\\\n",
    "\\vdots & \\vdots & \\vdots & \\ddots & \\vdots \\\\\n",
    "0 & 0 & 0 & \\cdots & 1\n",
    "\\end{bmatrix} \\quad \\Rightarrow tr\\left(E_n\\right) = n-1 $$ \n",
    "</p> \n",
    "\n"
   ]
  },
  {
   "cell_type": "markdown",
   "metadata": {},
   "source": [
    "### Consigna 7"
   ]
  },
  {
   "cell_type": "code",
   "execution_count": null,
   "metadata": {},
   "outputs": [],
   "source": [
    "def metodoPotenciaRecursivo(C, k, epsilon=1e-6, autovalores=None, autovectores=None):\n",
    "    if autovalores is None:\n",
    "        autovalores = []\n",
    "    if autovectores is None:\n",
    "        autovectores = []\n",
    "    # Caso base\n",
    "    if len(autovalores) == k:\n",
    "        return autovalores, autovectores\n",
    "    \n",
    "    # Generamos un vector aleatorio normalizado\n",
    "    n = C.shape[0]\n",
    "    x = np.random.rand(n)\n",
    "    x = x / np.linalg.norm(x)\n",
    "    \n",
    "    # Iteramos\n",
    "    x_next = C @ x\n",
    "    x_next = x_next / np.linalg.norm(x_next)\n",
    "    \n",
    "    while np.linalg.norm(x_next - x) >= (1 - epsilon):\n",
    "        x = x_next\n",
    "        x_next = C @ x\n",
    "        x_next = x_next / np.linalg.norm(x_next)\n",
    "    \n",
    "    # Calculamos el autovalor usando el cociente de Rayleigh y lo guardamos con el autovector aproximado\n",
    "    autovalor = (x.T @ C @ x) / (x.T @ x)\n",
    "    autovalores.append(autovalor)\n",
    "    autovectores.append(x)  # Aquí se guarda el autovector correspondiente\n",
    "\n",
    "    # Construimos la nueva matriz C' = C - autovalor * x * x^T\n",
    "    Cprima = C - autovalor * np.outer(x, x)\n",
    "\n",
    "    return metodoPotenciaRecursivo(Cprima, k, epsilon, autovalores, autovectores)\n",
    "\n"
   ]
  },
  {
   "cell_type": "code",
   "execution_count": null,
   "metadata": {},
   "outputs": [],
   "source": [
    "#Armamos nuestra matriz de covarianzas C del paıs Peru\n",
    "In = np.eye(40)\n",
    "e = np.ones((40, 1))\n",
    "eeT = np.outer(e, e)\n",
    "En = In - (1 / 40) * eeT\n",
    "AppC = En@App\n",
    "C = (np.transpose(AppC)@AppC)/(40 - 1)"
   ]
  },
  {
   "cell_type": "code",
   "execution_count": null,
   "metadata": {},
   "outputs": [],
   "source": [
    "autovalores, autovectores = metodoPotenciaRecursivo(C, k=2)\n",
    "for i in range(len(autovalores)):\n",
    "    print(f\"Autovector {i+1}: {autovectores[i].flatten()}\")\n",
    "    print(f\"Autovalor {i+1}: {autovalores[i]}\")"
   ]
  },
  {
   "cell_type": "markdown",
   "metadata": {},
   "source": [
    "### Consigna 8"
   ]
  },
  {
   "cell_type": "code",
   "execution_count": null,
   "metadata": {},
   "outputs": [],
   "source": [
    "###Duda sobre como proyectar los autovectores sobre la matriz de cada pais\n",
    "## PAIS 1: PERU \n",
    "subespacio = np.array(autovectores).T\n",
    "proyeccion = AppC @ np.array(autovectores).T\n",
    "\n",
    "plt.figure(figsize=(8, 6))\n",
    "plt.scatter(proyeccion[:, 0], proyeccion[:, 1], color='blue', marker='o')\n",
    "plt.title(\"Proyección de filas de App usando los autovectores principales\")\n",
    "plt.xlabel(\"Primera Componente Principal\")\n",
    "plt.ylabel(\"Segunda Componente Principal\")\n",
    "plt.grid()\n",
    "plt.show()"
   ]
  },
  {
   "attachments": {
    "be43e8a3-4e19-49f4-b8ab-6f90c74757b5.png": {
     "image/png": "[encoded data removed]"
    }
   },
   "cell_type": "markdown",
   "metadata": {},
   "source": [
    "![image.png](attachment:be43e8a3-4e19-49f4-b8ab-6f90c74757b5.png)"
   ]
  },
  {
   "cell_type": "code",
   "execution_count": null,
   "metadata": {},
   "outputs": [],
   "source": [
    "### Veamos si podemos sacar mas informacion sobre el Pais 2: Nicaragua\n",
    "AnnC = En@Ann\n",
    "C2 = (np.transpose(AnnC)@AnnC)/(40 - 1)\n",
    "autovalores2, autovectores2 = metodoPotenciaRecursivo(C2, k=2)\n",
    "subespacio = np.array(autovectores2).T\n",
    "proyeccion = AnnC @ np.array(autovectores2).T\n",
    "\n",
    "plt.figure(figsize=(8, 6))\n",
    "plt.scatter(proyeccion[:, 0], proyeccion[:, 1], color='green', marker='o')\n",
    "plt.title(\"Proyección de filas de Ann usando los autovectores principales\")\n",
    "plt.xlabel(\"Primera Componente Principal\")\n",
    "plt.ylabel(\"Segunda Componente Principal\")\n",
    "plt.grid()\n",
    "plt.show()"
   ]
  },
  {
   "attachments": {
    "34ca51da-6608-4022-a7a6-c9b9c82369bf.png": {
     "image/png": "[encoded data removed]"
    }
   },
   "cell_type": "markdown",
   "metadata": {},
   "source": [
    "![image.png](attachment:34ca51da-6608-4022-a7a6-c9b9c82369bf.png)"
   ]
  },
  {
   "cell_type": "markdown",
   "metadata": {},
   "source": [
    "### Consigna 9 -"
   ]
  },
  {
   "cell_type": "markdown",
   "metadata": {},
   "source": [
    "Para una matriz cuadrada A cuyo mayor autovalor asociado tiene valor absoluto menor que 1, se cumple que:\n",
    "$$ (I −A)^{−1} = I + A + A^2 + A^3 + ... + A^n+ ... $$\n",
    "Esta condicion siempre se cumple en las matrices $ A $ de insumo-producto. Para estas matrices, la sucesion suma de potencias representa:\n",
    "\n",
    "- $ A^1 $ La matriz insumo-producto sin modificaciones: Los insumos usados directamente para producir otros\n",
    "\n",
    "- $ A^2 $ El insumo necesario para producir los insumos que se usan en el item anterior, O sea, los insumos indirectos de orden 2\n",
    "\n",
    "- $ A^n $ Insumos indirectos de orden $ n $, o sea, los necesarios luego de $ n $ etapas en la cadena de producción\n",
    "\n",
    "Podemos usar la ecuacion para reemplazarla en la definicion de la matriz input-output integrada verticalmente $ H $\n",
    "$$ H = A (I − A)^{−1} $$\n",
    "$$ H = A (I + A + A^2 + A^3 + ... + A^n+ ...) $$\n",
    "$$ H = A + A^2 + A^3 + ... + A^n+ ... $$\n",
    "\n",
    "Por eso se enfoca en la acumulacion de los efectos indirectos y se refuerzan las relaciones entre los sectores que tienen una alta relevancia en A"
   ]
  },
  {
   "cell_type": "markdown",
   "metadata": {},
   "source": [
    "### Consigna 10 -"
   ]
  },
  {
   "cell_type": "code",
   "execution_count": null,
   "metadata": {},
   "outputs": [],
   "source": [
    "from funciones import calcularLU, inversaLU\n",
    "# from funciones import metodoPotenciaRecursivo\n",
    "\n",
    "import pandas as pd\n",
    "import numpy as np\n",
    "\n",
    "# Calculo Leontief de Peru\n",
    "Ipp = np.eye(App.shape[0])\n",
    "Lpp, Upp, Ppp = calcularLU(Ipp - App)  # LU de Leontief Perú\n",
    "LeontiefInvpp = inversaLU(Lpp, Upp, Ppp)\n",
    "\n",
    "# Calculo input-output integrada verticalmente H \n",
    "Hpp = App@LeontiefInvpp\n",
    "\n",
    "# (Desde pto 8) \n",
    "\n",
    "HppC = En@Hpp\n",
    "C2 = (np.transpose(HppC)@HppC)/(40 - 1)\n",
    "autovalores2, autovectores2 = metodoPotenciaRecursivo(C2, k=2)\n",
    "subespacio = np.array(autovectores2).T\n",
    "proyeccion = HppC @ np.array(autovectores2).T\n",
    "\n",
    "plt.figure(figsize=(8, 6))\n",
    "plt.scatter(proyeccion[:, 0], proyeccion[:, 1], color='green', marker='o')\n",
    "plt.title(\"Proyección de filas de Hpp usando los autovectores principales\")\n",
    "plt.xlabel(\"Primera Componente Principal\")\n",
    "plt.ylabel(\"Segunda Componente Principal\")\n",
    "plt.grid()\n",
    "plt.show()\n"
   ]
  }
 ],
 "metadata": {
  "colab": {
   "provenance": []
  },
  "kernelspec": {
   "display_name": "Python 3",
   "language": "python",
   "name": "python3"
  },
  "language_info": {
   "codemirror_mode": {
    "name": "ipython",
    "version": 3
   },
   "file_extension": ".py",
   "mimetype": "text/x-python",
   "name": "python",
   "nbconvert_exporter": "python",
   "pygments_lexer": "ipython3",
   "version": "3.8.10"
  }
 },
 "nbformat": 4,
 "nbformat_minor": 4
}
